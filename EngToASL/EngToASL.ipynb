{
 "cells": [
  {
   "cell_type": "code",
   "execution_count": 13,
   "id": "6b24bda9",
   "metadata": {},
   "outputs": [],
   "source": [
    "#!pip install azure.cognitiveservices.speech\n",
    "#!pip install stanfordnlp\n",
    "#!pip install stanza\n",
    "#!pip install spacy\n",
    "#!python -m spacy download en_core_web_lg\n",
    "#!pip install pafy\n",
    "#!pip install python-vlc\n",
    "#!pip install youtube-dl==2020.12.2"
   ]
  },
  {
   "cell_type": "code",
   "execution_count": 14,
   "id": "d83ebaca",
   "metadata": {},
   "outputs": [],
   "source": [
    "from StanzaNLP import *\n",
    "from GetSpeech import *\n",
    "from ReadDataset import *\n",
    "from Output import *"
   ]
  },
  {
   "cell_type": "code",
   "execution_count": 22,
   "id": "a9cf5467",
   "metadata": {},
   "outputs": [],
   "source": [
    "def parse(text):\n",
    "  doc = nlp(text)\n",
    "  #print (\"translating\")\n",
    "  for sentence in doc.sentences:\n",
    "    translation = translate(sentence)\n",
    "    result = []\n",
    "    for word in translation[0]:\n",
    "      result.append((word['text'].lower(), word['lemma'].lower()))\n",
    "    print(\"\\nResult: \", result, \"\\n\")\n",
    "    display(translation)\n",
    "  return doc"
   ]
  },
  {
   "cell_type": "code",
   "execution_count": 23,
   "id": "e37379ba",
   "metadata": {},
   "outputs": [],
   "source": [
    "def main():\n",
    "    global datasetSignLanguage_MS\n",
    "    datasetSignLanguage_MS = ReadfromJsonFile('D:\\python_projects\\Eng_ASL\\MS-ASL\\MSASL_train.json')\n",
    "    tests = [\n",
    "    #\"Where is the bathroom?\",\n",
    "    #\"What is your name?\",\n",
    "    #\"Give your book to me!\",\n",
    "    #\"Small dogs are cute\",\n",
    "    \"Dogs are good pets because they are friendly and cute\",\n",
    "    #\"कुत्ते प्यारे होते हैं क्योंकि वे छोटे होते हैं\"\n",
    "    ]\n",
    "\n",
    "    if len(tests) == 0:\n",
    "        tests = tests + [ getSpeech() ]\n",
    "\n",
    "    if len(tests[0]) == 0:\n",
    "        print(\"No speech detected... Reattempting.\")\n",
    "    else:\n",
    "        for text in tests:\n",
    "            print(\"Text to process: \", text, \"\\n\")\n",
    "            parse(text)"
   ]
  },
  {
   "cell_type": "code",
   "execution_count": null,
   "id": "7486b70c",
   "metadata": {
    "scrolled": false
   },
   "outputs": [],
   "source": [
    "main()"
   ]
  }
 ],
 "metadata": {
  "kernelspec": {
   "display_name": "Python 3.8.6 64-bit",
   "language": "python",
   "name": "python3"
  },
  "language_info": {
   "codemirror_mode": {
    "name": "ipython",
    "version": 3
   },
   "file_extension": ".py",
   "mimetype": "text/x-python",
   "name": "python",
   "nbconvert_exporter": "python",
   "pygments_lexer": "ipython3",
   "version": "3.8.6"
  },
  "vscode": {
   "interpreter": {
    "hash": "90239aca2fd330313541c4bd532bc535686eedd0070628e04e2ae561b5b13fa7"
   }
  }
 },
 "nbformat": 4,
 "nbformat_minor": 5
}
